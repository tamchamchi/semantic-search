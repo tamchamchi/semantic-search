{
 "cells": [
  {
   "cell_type": "code",
   "execution_count": 5,
   "id": "80372a3d",
   "metadata": {},
   "outputs": [
    {
     "name": "stdout",
     "output_type": "stream",
     "text": [
      "[[0, 5], [1], [3]]\n"
     ]
    }
   ],
   "source": [
    "import pandas as pd\n",
    "\n",
    "# Data mẫu\n",
    "df1 = pd.DataFrame({\n",
    "    \"video_folder\": [\"A\", \"A\", \"B\"],\n",
    "    \"video_id\": [1, 1, 2],\n",
    "    \"start\": [10, 50, 5],\n",
    "    \"end\": [20, 60, 15]\n",
    "})\n",
    "\n",
    "df2 = pd.DataFrame({\n",
    "    \"video_folder\": [\"A\", \"A\", \"A\", \"B\", \"B\", \"A\"],\n",
    "    \"video_id\": [1, 1, 1, 2, 2, 1],\n",
    "    \"frame\": [12, 55, 70, 8, 20, 10]\n",
    "})\n",
    "\n",
    "# Tìm index cho từng khoảng trong df1\n",
    "result = []\n",
    "for _, row in df1.iterrows():\n",
    "    mask = (\n",
    "        (df2[\"video_folder\"] == row[\"video_folder\"]) &\n",
    "        (df2[\"video_id\"] == row[\"video_id\"]) &\n",
    "        (df2[\"frame\"] >= row[\"start\"]) &\n",
    "        (df2[\"frame\"] <= row[\"end\"])\n",
    "    )\n",
    "    result.append(df2.index[mask].tolist())\n",
    "\n",
    "print(result)  # [[0], [1], [3]]\n"
   ]
  },
  {
   "cell_type": "code",
   "execution_count": null,
   "id": "0de7a201",
   "metadata": {},
   "outputs": [],
   "source": []
  }
 ],
 "metadata": {
  "kernelspec": {
   "display_name": "pysvgenius",
   "language": "python",
   "name": "python3"
  },
  "language_info": {
   "codemirror_mode": {
    "name": "ipython",
    "version": 3
   },
   "file_extension": ".py",
   "mimetype": "text/x-python",
   "name": "python",
   "nbconvert_exporter": "python",
   "pygments_lexer": "ipython3",
   "version": "3.10.13"
  }
 },
 "nbformat": 4,
 "nbformat_minor": 5
}
