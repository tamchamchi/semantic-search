{
 "cells": [
  {
   "cell_type": "code",
   "execution_count": null,
   "id": "2b9998de",
   "metadata": {},
   "outputs": [],
   "source": [
    "# https://github.com/tarang-jain/faiss-cuvs-example/blob/main/faiss_example.ipynb?fbclid=IwY2xjawL6YNVleHRuA2FlbQIxMABicmlkETFWTHVPa1N0b3dlVEE3bkdlAR6Tiz-jLw6b0k0iqfFoOFB8Fk0NQplLL3kroeok5_6Exg1pWRyiMS9t5z9FcA_aem_lO776xinivv2ml1eQBcUAQ"
   ]
  },
  {
   "cell_type": "code",
   "execution_count": 3,
   "id": "b5bf8287",
   "metadata": {},
   "outputs": [],
   "source": [
    "import rmm\n",
    "import faiss\n",
    "import numpy as np\n",
    "\n",
    "# Cấp phát một vùng nhớ trên device\n",
    "pool = rmm.mr.PoolMemoryResource(\n",
    "    rmm.mr.CudaMemoryResource(),\n",
    "    initial_pool_size=2**30  # ~ 1GB\n",
    ")\n",
    "rmm.mr.set_current_device_resource(pool)\n",
    "# check the current device resource\n",
    "current_resource = rmm.mr.get_current_device_resource()"
   ]
  },
  {
   "cell_type": "code",
   "execution_count": 2,
   "id": "4a2296f4",
   "metadata": {},
   "outputs": [],
   "source": [
    "res = faiss.StandardGpuResources()\n",
    "res.noTempMemory()"
   ]
  },
  {
   "cell_type": "code",
   "execution_count": 3,
   "id": "11faddcc",
   "metadata": {},
   "outputs": [
    {
     "data": {
      "text/plain": [
       "True"
      ]
     },
     "execution_count": 3,
     "metadata": {},
     "output_type": "execute_result"
    }
   ],
   "source": [
    "config = faiss.GpuIndexFlatConfig()\n",
    "config.use_cuvs"
   ]
  },
  {
   "cell_type": "code",
   "execution_count": 4,
   "id": "90e3bb00",
   "metadata": {},
   "outputs": [],
   "source": [
    "np.random.seed(1234)\n",
    "dim = 96\n",
    "xb = np.random.random((1000000, dim)).astype('float32')\n",
    "xq = np.random.random((10000, dim)).astype('float32')\n",
    "xt = np.random.random((100000, dim)).astype('float32')"
   ]
  },
  {
   "cell_type": "code",
   "execution_count": 5,
   "id": "54bac49b",
   "metadata": {},
   "outputs": [],
   "source": [
    "index = faiss.IndexFlatL2(dim)"
   ]
  },
  {
   "cell_type": "code",
   "execution_count": 6,
   "id": "552b3afb",
   "metadata": {},
   "outputs": [],
   "source": [
    "index_gpu = faiss.GpuIndexFlatL2(res, index, config)"
   ]
  },
  {
   "cell_type": "code",
   "execution_count": null,
   "id": "d21173b3",
   "metadata": {},
   "outputs": [],
   "source": []
  }
 ],
 "metadata": {
  "kernelspec": {
   "display_name": "aic2025",
   "language": "python",
   "name": "python3"
  },
  "language_info": {
   "codemirror_mode": {
    "name": "ipython",
    "version": 3
   },
   "file_extension": ".py",
   "mimetype": "text/x-python",
   "name": "python",
   "nbconvert_exporter": "python",
   "pygments_lexer": "ipython3",
   "version": "3.11.13"
  }
 },
 "nbformat": 4,
 "nbformat_minor": 5
}
