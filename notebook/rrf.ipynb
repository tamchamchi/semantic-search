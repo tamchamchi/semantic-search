{
 "cells": [
  {
   "cell_type": "code",
   "execution_count": 2,
   "id": "20773442",
   "metadata": {},
   "outputs": [
    {
     "name": "stdout",
     "output_type": "stream",
     "text": [
      "Index1 size: 1000\n",
      "Index2 size: 1000\n"
     ]
    }
   ],
   "source": [
    "import faiss\n",
    "import numpy as np\n",
    "\n",
    "d = 128  \n",
    "\n",
    "index1 = faiss.IndexFlatL2(d)\n",
    "index2 = faiss.IndexFlatL2(d)\n",
    "\n",
    "np.random.seed(42)\n",
    "data1 = np.random.random((1000, d)).astype('float32') \n",
    "data2 = np.random.random((1000, d)).astype('float32')  \n",
    "\n",
    "index1.add(data1)\n",
    "index2.add(data2)\n",
    "\n",
    "print(\"Index1 size:\", index1.ntotal)  \n",
    "print(\"Index2 size:\", index2.ntotal)  \n",
    "\n"
   ]
  },
  {
   "cell_type": "code",
   "execution_count": 9,
   "id": "b06dec63",
   "metadata": {},
   "outputs": [],
   "source": [
    "query = np.random.random((2, d)).astype('float32')"
   ]
  },
  {
   "cell_type": "code",
   "execution_count": 11,
   "id": "5eaef8f5",
   "metadata": {},
   "outputs": [
    {
     "name": "stdout",
     "output_type": "stream",
     "text": [
      "Kết quả từ Index1: [[231 388 958 969 437 321 129 551 824 197]\n",
      " [771  71 241 805 729 293 116 419 662  94]]\n"
     ]
    }
   ],
   "source": [
    "dist1, idx1 = index1.search(query, k=10) \n",
    "print(\"Kết quả từ Index1:\", idx1)"
   ]
  },
  {
   "cell_type": "code",
   "execution_count": 7,
   "id": "786cb6d8",
   "metadata": {},
   "outputs": [
    {
     "name": "stdout",
     "output_type": "stream",
     "text": [
      "Kết quả từ Index2: [[182 329 124 288 794 572 808 891 632  76]] [[15.919629 16.045359 16.072968 16.137405 16.324867 16.410614 16.50709\n",
      "  16.518627 16.727901 16.75441 ]]\n"
     ]
    }
   ],
   "source": [
    "dist2, idx2 = index2.search(query, k=10)\n",
    "print(\"Kết quả từ Index2:\", idx2, dist2)"
   ]
  },
  {
   "cell_type": "code",
   "execution_count": 8,
   "id": "db983a00",
   "metadata": {},
   "outputs": [
    {
     "data": {
      "text/plain": [
       "numpy.ndarray"
      ]
     },
     "execution_count": 8,
     "metadata": {},
     "output_type": "execute_result"
    }
   ],
   "source": [
    "type(idx1)"
   ]
  },
  {
   "cell_type": "code",
   "execution_count": 12,
   "id": "14353375",
   "metadata": {},
   "outputs": [
    {
     "name": "stdout",
     "output_type": "stream",
     "text": [
      "Ranking từ Index1: [5, 8, 6, 9, 0]\n",
      "Ranking từ Index2: [14, 13, 6, 12, 4]\n",
      "Kết quả hợp nhất RRF: [(6, 0.031746031746031744), (5, 0.01639344262295082), (14, 0.01639344262295082), (8, 0.016129032258064516), (13, 0.016129032258064516), (9, 0.015625), (12, 0.015625), (0, 0.015384615384615385), (4, 0.015384615384615385)]\n"
     ]
    }
   ],
   "source": [
    "import faiss\n",
    "import numpy as np\n",
    "\n",
    "# --- 1. Tạo 2 FAISS index ảo ---\n",
    "d = 128\n",
    "index1 = faiss.IndexFlatL2(d)\n",
    "index2 = faiss.IndexFlatL2(d)\n",
    "\n",
    "np.random.seed(42)\n",
    "data1 = np.random.random((10, d)).astype('float32')\n",
    "data2 = np.random.random((15, d)).astype('float32')\n",
    "\n",
    "index1.add(data1)\n",
    "index2.add(data2)\n",
    "\n",
    "# Query vector\n",
    "query = np.random.random((1, d)).astype('float32')\n",
    "\n",
    "# --- 2. Lấy kết quả từ 2 index ---\n",
    "k = 5\n",
    "dist1, idx1 = index1.search(query, k)\n",
    "dist2, idx2 = index2.search(query, k)\n",
    "\n",
    "# Đổi index sang dạng list cho dễ xử lý\n",
    "rankings = [\n",
    "    idx1[0].tolist(),  # ranking list từ DB1\n",
    "    idx2[0].tolist(),  # ranking list từ DB2\n",
    "]\n",
    "\n",
    "# --- 3. Áp dụng Reciprocal Rank Fusion ---\n",
    "def reciprocal_rank_fusion(rank_lists, k_param=60):\n",
    "    scores = {}\n",
    "    for rank_list in rank_lists:\n",
    "        for rank_pos, doc_id in enumerate(rank_list):\n",
    "            scores[doc_id] = scores.get(doc_id, 0) + 1 / (k_param + rank_pos + 1)\n",
    "    return sorted(scores.items(), key=lambda x: x[1], reverse=True)\n",
    "\n",
    "rrf_results = reciprocal_rank_fusion(rankings)\n",
    "\n",
    "print(\"Ranking từ Index1:\", rankings[0])\n",
    "print(\"Ranking từ Index2:\", rankings[1])\n",
    "print(\"Kết quả hợp nhất RRF:\", rrf_results)\n"
   ]
  },
  {
   "cell_type": "code",
   "execution_count": null,
   "id": "71a47723",
   "metadata": {},
   "outputs": [],
   "source": []
  }
 ],
 "metadata": {
  "kernelspec": {
   "display_name": "semantic",
   "language": "python",
   "name": "python3"
  },
  "language_info": {
   "codemirror_mode": {
    "name": "ipython",
    "version": 3
   },
   "file_extension": ".py",
   "mimetype": "text/x-python",
   "name": "python",
   "nbconvert_exporter": "python",
   "pygments_lexer": "ipython3",
   "version": "3.11.13"
  }
 },
 "nbformat": 4,
 "nbformat_minor": 5
}
